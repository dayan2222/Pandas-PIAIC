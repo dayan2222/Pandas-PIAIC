{
 "cells": [
  {
   "cell_type": "markdown",
   "metadata": {},
   "source": [
    "# Installing Pandas\n"
   ]
  },
  {
   "cell_type": "markdown",
   "metadata": {},
   "source": [
    "<b>if you have installed anaconda, pandas is already part of it. for other python installation use \"pip install pandas\" to install latest version</b>"
   ]
  },
  {
   "cell_type": "markdown",
   "metadata": {},
   "source": [
    "# Section 5.1 Pandas Series"
   ]
  },
  {
   "attachments": {
    "series1.png": {
     "image/png": "[encoded data removed]"
    }
   },
   "cell_type": "markdown",
   "metadata": {},
   "source": [
    "![series1.png](attachment:series1.png)"
   ]
  },
  {
   "cell_type": "code",
   "execution_count": 1,
   "metadata": {},
   "outputs": [],
   "source": [
    "# we need to import pandas\n",
    "import pandas as pd"
   ]
  },
  {
   "cell_type": "code",
   "execution_count": 2,
   "metadata": {},
   "outputs": [
    {
     "name": "stdout",
     "output_type": "stream",
     "text": [
      "0    3\n",
      "1    2\n",
      "2    0\n",
      "3    1\n",
      "dtype: int64\n"
     ]
    }
   ],
   "source": [
    "obj = pd.Series([3,2,0,1])\n",
    "print(obj)"
   ]
  },
  {
   "cell_type": "markdown",
   "metadata": {},
   "source": [
    "# A Series is one dimensional array-like object containing a sequence of values(of similar types of NumPy types) and an associated array of data labels, called its index"
   ]
  },
  {
   "cell_type": "markdown",
   "metadata": {},
   "source": [
    "# pandas series has  two things in one object "
   ]
  },
  {
   "cell_type": "markdown",
   "metadata": {},
   "source": [
    "### 1 Values"
   ]
  },
  {
   "cell_type": "markdown",
   "metadata": {},
   "source": [
    "###  2 Index"
   ]
  },
  {
   "cell_type": "code",
   "execution_count": 3,
   "metadata": {},
   "outputs": [
    {
     "name": "stdout",
     "output_type": "stream",
     "text": [
      "[100 200 300 400]\n",
      "RangeIndex(start=0, stop=4, step=1)\n"
     ]
    }
   ],
   "source": [
    "sales = pd.Series([100, 200, 300, 400])\n",
    "print(sales.values)\n",
    "print(sales.index)"
   ]
  },
  {
   "cell_type": "code",
   "execution_count": 4,
   "metadata": {},
   "outputs": [
    {
     "name": "stdout",
     "output_type": "stream",
     "text": [
      "Jan    100\n",
      "Feb    200\n",
      "Mar    100\n",
      "Apr    400\n",
      "dtype: int64\n",
      "[100 200 100 400]\n",
      "Index(['Jan', 'Feb', 'Mar', 'Apr'], dtype='object')\n"
     ]
    }
   ],
   "source": [
    "sales = pd.Series([100 , 200, 100, 400], index = ['Jan','Feb', 'Mar', 'Apr'])\n",
    "print(sales)\n",
    "print(sales.values)\n",
    "print(sales.index)"
   ]
  },
  {
   "cell_type": "code",
   "execution_count": 5,
   "metadata": {},
   "outputs": [
    {
     "name": "stdout",
     "output_type": "stream",
     "text": [
      "Jan    100\n",
      "Feb    200\n",
      "Mar    100\n",
      "Apr    400\n",
      "Name: 4 monts sales, dtype: int64\n"
     ]
    }
   ],
   "source": [
    "sales = pd.Series([100, 200, 100, 400], index = ['Jan','Feb', 'Mar', 'Apr'], name=\"4 monts sales\")\n",
    "print(sales)"
   ]
  },
  {
   "cell_type": "markdown",
   "metadata": {},
   "source": [
    "# create a pandas series to store a canteen data to hold values of how many sandwithes are sold each days (one week)"
   ]
  },
  {
   "cell_type": "code",
   "execution_count": 6,
   "metadata": {},
   "outputs": [
    {
     "name": "stdout",
     "output_type": "stream",
     "text": [
      "mon    20\n",
      "tue    30\n",
      "wed    20\n",
      "thr    25\n",
      "fri    30\n",
      "sat    40\n",
      "sun     0\n",
      "dtype: int64\n"
     ]
    }
   ],
   "source": [
    "sw = pd.Series([20, 30, 20, 25, 30, 40, 0], index = ['mon', 'tue', 'wed', 'thr','fri', 'sat', 'sun'])\n",
    "print(sw)"
   ]
  },
  {
   "cell_type": "code",
   "execution_count": 7,
   "metadata": {},
   "outputs": [
    {
     "name": "stdout",
     "output_type": "stream",
     "text": [
      "30\n",
      "25\n",
      "30\n"
     ]
    }
   ],
   "source": [
    "print(sw[1])\n",
    "print(sw['thr'])\n",
    "print(sw['fri'])\n"
   ]
  },
  {
   "cell_type": "code",
   "execution_count": 9,
   "metadata": {},
   "outputs": [
    {
     "name": "stdout",
     "output_type": "stream",
     "text": [
      "thr    25\n",
      "sat    40\n",
      "dtype: int64\n",
      "tue    30\n",
      "thr    25\n",
      "dtype: int64\n"
     ]
    }
   ],
   "source": [
    "print( sw[ [3,5] ] )\n",
    "print( sw[['tue','thr']])"
   ]
  },
  {
   "cell_type": "markdown",
   "metadata": {},
   "source": [
    "# for providing multipe index for selecting element in an pd series, use array notation"
   ]
  },
  {
   "cell_type": "code",
   "execution_count": 10,
   "metadata": {},
   "outputs": [
    {
     "name": "stdout",
     "output_type": "stream",
     "text": [
      "mon    False\n",
      "tue     True\n",
      "wed    False\n",
      "thr     True\n",
      "fri     True\n",
      "sat     True\n",
      "sun    False\n",
      "dtype: bool\n",
      "\n",
      "tue    30\n",
      "thr    25\n",
      "fri    30\n",
      "sat    40\n",
      "dtype: int64\n"
     ]
    }
   ],
   "source": [
    "print(sw > 20)\n",
    "print()\n",
    "print( sw[sw > 20])"
   ]
  },
  {
   "cell_type": "code",
   "execution_count": 11,
   "metadata": {},
   "outputs": [
    {
     "name": "stdout",
     "output_type": "stream",
     "text": [
      "mon    40\n",
      "tue    60\n",
      "wed    40\n",
      "thr    50\n",
      "fri    60\n",
      "sat    80\n",
      "sun     0\n",
      "dtype: int64\n"
     ]
    }
   ],
   "source": [
    "sw * 2 \n",
    "sw = sw * 2 \n",
    "print(sw)"
   ]
  },
  {
   "cell_type": "code",
   "execution_count": 12,
   "metadata": {},
   "outputs": [
    {
     "name": "stdout",
     "output_type": "stream",
     "text": [
      "mon    20.0\n",
      "tue    30.0\n",
      "wed    20.0\n",
      "thr    25.0\n",
      "fri    30.0\n",
      "sat    40.0\n",
      "sun     0.0\n",
      "dtype: float64\n"
     ]
    }
   ],
   "source": [
    "sw = sw / 2\n",
    "print(sw)"
   ]
  },
  {
   "cell_type": "code",
   "execution_count": 13,
   "metadata": {},
   "outputs": [
    {
     "data": {
      "text/plain": [
       "True"
      ]
     },
     "execution_count": 13,
     "metadata": {},
     "output_type": "execute_result"
    }
   ],
   "source": [
    "'mon'in sw"
   ]
  },
  {
   "cell_type": "markdown",
   "metadata": {},
   "source": [
    "### Taking input from array"
   ]
  },
  {
   "cell_type": "code",
   "execution_count": 19,
   "metadata": {},
   "outputs": [
    {
     "name": "stdout",
     "output_type": "stream",
     "text": [
      "a    3\n",
      "b    2\n",
      "c    4\n",
      "d    5\n",
      "e    6\n",
      "dtype: int32\n"
     ]
    }
   ],
   "source": [
    "import numpy as np\n",
    "\n",
    "ar = np.array([3,2,4,5,6])\n",
    "ind = np.array(['a','b','c','d','e'])\n",
    "\n",
    "obj2 = pd.Series(ar,index = ind)\n",
    "print(obj2)"
   ]
  },
  {
   "cell_type": "code",
   "execution_count": 25,
   "metadata": {},
   "outputs": [
    {
     "name": "stdout",
     "output_type": "stream",
     "text": [
      "Sindh          35000\n",
      "Panjab          4500\n",
      "KPK             3000\n",
      "Balochistan     2000\n",
      "dtype: int64\n",
      "Index(['Sindh', 'Panjab', 'KPK', 'Balochistan'], dtype='object')\n"
     ]
    }
   ],
   "source": [
    "sdata = {\"Sindh\": 35000, \"Panjab\": 4500, \"KPK\": 3000, \"Balochistan\": 2000}\n",
    "tax_by_state = pd.Series(sdata)\n",
    "print(tax_by_state)\n",
    "print(tax_by_state.index)"
   ]
  },
  {
   "cell_type": "code",
   "execution_count": 26,
   "metadata": {},
   "outputs": [
    {
     "name": "stdout",
     "output_type": "stream",
     "text": [
      "Panjab         45000.0\n",
      "Sindh          35000.0\n",
      "Balochistan    20000.0\n",
      "KPK            30000.0\n",
      "GB                 NaN\n",
      "dtype: float64\n",
      "\n",
      "Panjab         False\n",
      "Sindh          False\n",
      "Balochistan    False\n",
      "KPK            False\n",
      "GB              True\n",
      "dtype: bool\n"
     ]
    }
   ],
   "source": [
    "sdata = {\"Sindh\": 35000, \"Panjab\": 45000, \"KPK\": 30000, \"Balochistan\": 20000}\n",
    "tax_by_state = pd.Series(sdata, index = [\"Panjab\",\"Sindh\", \"Balochistan\", \"KPK\", \"GB\"])\n",
    "print(tax_by_state)\n",
    "print()\n",
    "print(pd.isnull(tax_by_state))"
   ]
  },
  {
   "cell_type": "code",
   "execution_count": 27,
   "metadata": {},
   "outputs": [
    {
     "name": "stdout",
     "output_type": "stream",
     "text": [
      "States\n",
      "Panjab         45000.0\n",
      "Sindh          35000.0\n",
      "Balochistan    20000.0\n",
      "KPK            30000.0\n",
      "GB                 NaN\n",
      "Name: state tax paying capacity, dtype: float64\n",
      "Index(['Panjab', 'Sindh', 'Balochistan', 'KPK', 'GB'], dtype='object', name='States')\n"
     ]
    }
   ],
   "source": [
    "tax_by_state.name = \"state tax paying capacity\"\n",
    "tax_by_state.index.name = \"States\"\n",
    "print(tax_by_state)\n",
    "print(tax_by_state.index)"
   ]
  },
  {
   "cell_type": "markdown",
   "metadata": {},
   "source": [
    "#### NaN values means does not exist in pandas series"
   ]
  },
  {
   "cell_type": "code",
   "execution_count": 36,
   "metadata": {},
   "outputs": [
    {
     "data": {
      "text/plain": [
       "States\n",
       "Panjab         False\n",
       "Sindh          False\n",
       "Balochistan    False\n",
       "KPK            False\n",
       "GB              True\n",
       "Name: state tax paying capacity, dtype: bool"
      ]
     },
     "execution_count": 36,
     "metadata": {},
     "output_type": "execute_result"
    }
   ],
   "source": [
    "pd.isnull(tax_by_state)\n",
    "tax_by_state.isnull()"
   ]
  },
  {
   "cell_type": "code",
   "execution_count": 37,
   "metadata": {},
   "outputs": [
    {
     "name": "stdout",
     "output_type": "stream",
     "text": [
      "mon    20\n",
      "tue    30\n",
      "wed    20\n",
      "thr    25\n",
      "fri    30\n",
      "sat    40\n",
      "sun     0\n",
      "dtype: int64\n",
      "m    20\n",
      "t    30\n",
      "w    20\n",
      "t    25\n",
      "f    30\n",
      "s    40\n",
      "s     0\n",
      "dtype: int64\n"
     ]
    }
   ],
   "source": [
    "sw = pd.Series([20, 30, 20, 25, 30, 40, 0], \n",
    "               index = ['mon', 'tue', 'wed', 'thr','fri', 'sat', 'sun'])\n",
    "print(sw)\n",
    "sw.index = [\"m\", \"t\", \"w\", \"t\", \"f\", \"s\", \"s\"]\n",
    "print(sw)"
   ]
  },
  {
   "cell_type": "markdown",
   "metadata": {},
   "source": [
    "**Source for series data**\n",
    "* direct data in the Series method\n",
    "* from numpy array or list\n",
    "* from dictonary"
   ]
  },
  {
   "cell_type": "code",
   "execution_count": null,
   "metadata": {},
   "outputs": [],
   "source": []
  }
 ],
 "metadata": {
  "kernelspec": {
   "display_name": "Python 3",
   "language": "python",
   "name": "python3"
  },
  "language_info": {
   "codemirror_mode": {
    "name": "ipython",
    "version": 3
   },
   "file_extension": ".py",
   "mimetype": "text/x-python",
   "name": "python",
   "nbconvert_exporter": "python",
   "pygments_lexer": "ipython3",
   "version": "3.7.3"
  }
 },
 "nbformat": 4,
 "nbformat_minor": 2
}
